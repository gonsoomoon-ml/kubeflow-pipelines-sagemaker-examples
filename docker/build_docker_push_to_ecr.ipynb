{
 "cells": [
  {
   "cell_type": "code",
   "execution_count": 1,
   "metadata": {},
   "outputs": [],
   "source": [
    "import boto3\n",
    "sess = boto3.Session()"
   ]
  },
  {
   "cell_type": "markdown",
   "metadata": {},
   "source": [
    "**Select a name for the ECR repository**"
   ]
  },
  {
   "cell_type": "code",
   "execution_count": 2,
   "metadata": {},
   "outputs": [],
   "source": [
    "ecr_repo_name = 'sagemaker-kubernetes'\n",
    "\n",
    "region = boto3.Session().region_name\n",
    "account = boto3.client('sts').get_caller_identity().get('Account')\n",
    "image = '{}.dkr.ecr.{}.amazonaws.com/{}:latest'.format(account, region, ecr_repo_name)"
   ]
  },
  {
   "cell_type": "markdown",
   "metadata": {},
   "source": [
    "**Build a container image locally with training scripts**"
   ]
  },
  {
   "cell_type": "code",
   "execution_count": 3,
   "metadata": {},
   "outputs": [
    {
     "name": "stdout",
     "output_type": "stream",
     "text": [
      "WARNING! Using --password via the CLI is insecure. Use --password-stdin.\n",
      "WARNING! Your password will be stored unencrypted in /home/ec2-user/.docker/config.json.\n",
      "Configure a credential helper to remove this warning. See\n",
      "https://docs.docker.com/engine/reference/commandline/login/#credentials-store\n",
      "\n",
      "Login Succeeded\n",
      "Sending build context to Docker daemon  22.53kB\n",
      "Step 1/7 : FROM 763104351884.dkr.ecr.us-west-2.amazonaws.com/tensorflow-training:1.15.2-gpu-py36-cu100-ubuntu18.04\n",
      "1.15.2-gpu-py36-cu100-ubuntu18.04: Pulling from tensorflow-training\n",
      "\n",
      "\u001b[1Bc47eeb70: Pulling fs layer \n",
      "\u001b[1Bdc448b72: Pulling fs layer \n",
      "\u001b[1B70e39044: Pulling fs layer \n",
      "\u001b[1B37916d57: Pulling fs layer \n",
      "\u001b[1B569ddae6: Pulling fs layer \n",
      "\u001b[1B2c57c41d: Pulling fs layer \n",
      "\u001b[1B04a00543: Pulling fs layer \n",
      "\u001b[1Bc90152db: Pulling fs layer \n",
      "\u001b[1B652ce645: Pulling fs layer \n",
      "\u001b[1B027e0082: Pulling fs layer \n",
      "\u001b[1B8168a55a: Pulling fs layer \n",
      "\u001b[1Bb219f0d1: Pulling fs layer \n",
      "\u001b[1B5a45ce9f: Pulling fs layer \n",
      "\u001b[1B8c7cf03a: Pulling fs layer \n",
      "\u001b[1B335f456c: Pulling fs layer \n",
      "\u001b[1Bdd077882: Pulling fs layer \n",
      "\u001b[1B663c774b: Pulling fs layer \n",
      "\u001b[1Bcd905c13: Pulling fs layer \n",
      "\u001b[1B1f69c142: Pulling fs layer \n",
      "\u001b[1B34da8bcf: Pulling fs layer \n",
      "\u001b[1Bb83920ec: Pulling fs layer \n",
      "\u001b[1Bfailed to register layer: Error processing tar file(exit status 1): write /usr/local/cuda-10.0/targets/x86_64-linux/lib/libcusolver.so.10.0.130: no space left on deviceA\u001b[2K\u001b[22A\u001b[2K\u001b[18A\u001b[2K\u001b[22A\u001b[2K\u001b[18A\u001b[2K\u001b[22A\u001b[2K\u001b[18A\u001b[2K\u001b[22A\u001b[2K\u001b[18A\u001b[2K\u001b[22A\u001b[2K\u001b[18A\u001b[2K\u001b[22A\u001b[2K\u001b[18A\u001b[2K\u001b[17A\u001b[2K\u001b[17A\u001b[2K\u001b[22A\u001b[2K\u001b[17A\u001b[2K\u001b[22A\u001b[2K\u001b[22A\u001b[2K\u001b[17A\u001b[2K\u001b[22A\u001b[2K\u001b[17A\u001b[2K\u001b[22A\u001b[2K\u001b[17A\u001b[2K\u001b[22A\u001b[2K\u001b[17A\u001b[2K\u001b[21A\u001b[2K\u001b[17A\u001b[2K\u001b[19A\u001b[2K\u001b[19A\u001b[2K\u001b[18A\u001b[2K\u001b[18A\u001b[2K\u001b[18A\u001b[2K\u001b[18A\u001b[2K\u001b[17A\u001b[2K\u001b[17A\u001b[2K\u001b[17A\u001b[2K\u001b[16A\u001b[2K\u001b[15A\u001b[2K\u001b[15A\u001b[2K\u001b[13A\u001b[2K\u001b[15A\u001b[2K\u001b[15A\u001b[2K\u001b[14A\u001b[2K\u001b[15A\u001b[2K\u001b[15A\u001b[2K\u001b[14A\u001b[2K\u001b[15A\u001b[2K\u001b[15A\u001b[2K\u001b[15A\u001b[2K\u001b[15A\u001b[2K\u001b[12A\u001b[2K\u001b[15A\u001b[2K\u001b[15A\u001b[2K\u001b[15A\u001b[2K\u001b[15A\u001b[2K\u001b[15A\u001b[2K\u001b[15A\u001b[2K\u001b[15A\u001b[2K\u001b[11A\u001b[2K\u001b[15A\u001b[2K\u001b[15A\u001b[2K\u001b[15A\u001b[2K\u001b[15A\u001b[2K\u001b[15A\u001b[2K\u001b[15A\u001b[2K\u001b[15A\u001b[2K\u001b[15A\u001b[2K\u001b[15A\u001b[2K\u001b[9A\u001b[2K\u001b[15A\u001b[2K\u001b[15A\u001b[2K\u001b[8A\u001b[2K\u001b[15A\u001b[2K\u001b[8A\u001b[2K\u001b[8A\u001b[2K\u001b[15A\u001b[2K\u001b[8A\u001b[2K\u001b[8A\u001b[2K\u001b[8A\u001b[2K\u001b[8A\u001b[2K\u001b[15A\u001b[2K\u001b[15A\u001b[2K\u001b[15A\u001b[2K\u001b[15A\u001b[2K\u001b[15A\u001b[2K\u001b[15A\u001b[2K\u001b[15A\u001b[2K\u001b[15A\u001b[2K\u001b[15A\u001b[2K\u001b[15A\u001b[2K\u001b[15A\u001b[2K\u001b[15A\u001b[2K\u001b[15A\u001b[2K\u001b[5A\u001b[2K\u001b[15A\u001b[2K\u001b[5A\u001b[2K\u001b[6A\u001b[2K\u001b[5A\u001b[2K\u001b[6A\u001b[2K\u001b[15A\u001b[2K\u001b[5A\u001b[2K\u001b[6A\u001b[2K\u001b[5A\u001b[2K\u001b[6A\u001b[2K\u001b[15A\u001b[2K\u001b[5A\u001b[2K\u001b[6A\u001b[2K\u001b[5A\u001b[2K\u001b[6A\u001b[2K\u001b[15A\u001b[2K\u001b[5A\u001b[2K\u001b[6A\u001b[2K\u001b[5A\u001b[2K\u001b[6A\u001b[2K\u001b[15A\u001b[2K\u001b[5A\u001b[2K\u001b[6A\u001b[2K\u001b[5A\u001b[2K\u001b[6A\u001b[2K\u001b[15A\u001b[2K\u001b[5A\u001b[2K\u001b[6A\u001b[2K\u001b[5A\u001b[2K\u001b[6A\u001b[2K\u001b[15A\u001b[2K\u001b[6A\u001b[2K\u001b[15A\u001b[2K\u001b[5A\u001b[2K\u001b[6A\u001b[2K\u001b[15A\u001b[2K\u001b[6A\u001b[2K\u001b[15A\u001b[2K\u001b[5A\u001b[2K\u001b[6A\u001b[2K\u001b[5A\u001b[2K\u001b[6A\u001b[2K\u001b[15A\u001b[2K\u001b[5A\u001b[2K\u001b[6A\u001b[2K\u001b[5A\u001b[2K\u001b[6A\u001b[2K\u001b[15A\u001b[2K\u001b[5A\u001b[2K\u001b[6A\u001b[2K\u001b[5A\u001b[2K\u001b[6A\u001b[2K\u001b[15A\u001b[2K\u001b[5A\u001b[2K\u001b[6A\u001b[2K\u001b[5A\u001b[2K\u001b[6A\u001b[2K\u001b[15A\u001b[2K\u001b[5A\u001b[2K\u001b[6A\u001b[2K\u001b[5A\u001b[2K\u001b[6A\u001b[2K\u001b[15A\u001b[2K\u001b[5A\u001b[2K\u001b[6A\u001b[2K\u001b[5A\u001b[2K\u001b[6A\u001b[2K\u001b[5A\u001b[2K\u001b[6A\u001b[2K\u001b[5A\u001b[2K\u001b[6A\u001b[2K\u001b[5A\u001b[2K\u001b[6A\u001b[2K\u001b[5A\u001b[2K\u001b[6A\u001b[2K\u001b[5A\u001b[2K\u001b[6A\u001b[2K\u001b[5A\u001b[2K\u001b[6A\u001b[2K\u001b[5A\u001b[2K\u001b[15A\u001b[2K\u001b[5A\u001b[2K\u001b[6A\u001b[2K\u001b[5A\u001b[2K\u001b[6A\u001b[2K\u001b[15A\u001b[2K\u001b[5A\u001b[2K\u001b[6A\u001b[2K\u001b[5A\u001b[2K\u001b[6A\u001b[2K\u001b[15A\u001b[2K\u001b[5A\u001b[2K\u001b[6A\u001b[2K\u001b[5A\u001b[2K\u001b[15A\u001b[2K\u001b[5A\u001b[2K\u001b[6A\u001b[2K\u001b[5A\u001b[2K\u001b[15A\u001b[2K\u001b[5A\u001b[2K\u001b[5A\u001b[2K\u001b[15A\u001b[2K\u001b[5A\u001b[2K\u001b[5A\u001b[2K\u001b[6A\u001b[2K\u001b[5A\u001b[2K\u001b[5A\u001b[2K\u001b[6A\u001b[2K\u001b[5A\u001b[2K\u001b[15A\u001b[2K\u001b[5A\u001b[2K\u001b[6A\u001b[2K\u001b[5A\u001b[2K\u001b[15A\u001b[2K\u001b[5A\u001b[2K\u001b[6A\u001b[2K\u001b[5A\u001b[2K\u001b[15A\u001b[2K\u001b[5A\u001b[2K\u001b[6A\u001b[2K\u001b[5A\u001b[2K\u001b[15A\u001b[2K\u001b[5A\u001b[2K\u001b[6A\u001b[2K\u001b[5A\u001b[2K\u001b[6A\u001b[2K\u001b[5A\u001b[2K\u001b[6A\u001b[2K\u001b[5A\u001b[2K\u001b[6A\u001b[2K\u001b[5A\u001b[2K\u001b[6A\u001b[2K\u001b[5A\u001b[2K\u001b[6A\u001b[2K\u001b[5A\u001b[2K\u001b[6A\u001b[2K\u001b[15A\u001b[2K\u001b[6A\u001b[2K\u001b[15A\u001b[2K\u001b[15A\u001b[2K\u001b[6A\u001b[2K\u001b[15A\u001b[2K\u001b[15A\u001b[2K\u001b[6A\u001b[2K\u001b[15A\u001b[2K\u001b[15A\u001b[2K\u001b[6A\u001b[2K\u001b[15A\u001b[2K\u001b[6A\u001b[2K\u001b[15A\u001b[2K\u001b[6A\u001b[2K\u001b[15A\u001b[2K\u001b[6A\u001b[2K\u001b[15A\u001b[2K\u001b[6A\u001b[2K\u001b[15A\u001b[2K\u001b[6A\u001b[2K\u001b[15A\u001b[2K\u001b[15A\u001b[2K\u001b[6A\u001b[2K\u001b[15A\u001b[2K\u001b[15A\u001b[2K\u001b[6A\u001b[2K\u001b[15A\u001b[2K\u001b[3A\u001b[2K\u001b[15A\u001b[2K\u001b[6A\u001b[2K\u001b[15A\u001b[2K\u001b[15A\u001b[2K\u001b[6A\u001b[2K\u001b[15A\u001b[2K\u001b[6A\u001b[2K\u001b[15A\u001b[2K\u001b[6A\u001b[2K\u001b[15A\u001b[2K\u001b[6A\u001b[2K\u001b[15A\u001b[2K\u001b[6A\u001b[2K\u001b[15A\u001b[2K\u001b[6A\u001b[2K\u001b[15A\u001b[2K\u001b[6A\u001b[2K\u001b[15A\u001b[2K\u001b[6A\u001b[2K\u001b[15A\u001b[2K\u001b[6A\u001b[2K\u001b[15A\u001b[2K\u001b[6A\u001b[2K\u001b[15A\u001b[2K\u001b[15A\u001b[2K\u001b[6A\u001b[2K\u001b[15A\u001b[2K\u001b[6A\u001b[2K\u001b[15A\u001b[2K\u001b[6A\u001b[2K\u001b[15A\u001b[2K\u001b[6A\u001b[2K\u001b[1A\u001b[2K\u001b[15A\u001b[2K\u001b[6A\u001b[2K\u001b[15A\u001b[2K\u001b[6A\u001b[2K\u001b[15A\u001b[2K\u001b[6A\u001b[2K\u001b[15A\u001b[2K\u001b[6A\u001b[2K\u001b[15A\u001b[2K\u001b[6A\u001b[2K\u001b[15A\u001b[2K\u001b[6A\u001b[2K\u001b[15A\u001b[2K\u001b[6A\u001b[2K\u001b[15A\u001b[2K\u001b[6A\u001b[2K\u001b[15A\u001b[2K\u001b[6A\u001b[2K\u001b[15A\u001b[2K\u001b[6A\u001b[2K\u001b[15A\u001b[2K\u001b[6A\u001b[2K\u001b[15A\u001b[2K\u001b[6A\u001b[2K\u001b[15A\u001b[2K\u001b[6A\u001b[2K\u001b[15A\u001b[2K\u001b[6A\u001b[2K\u001b[15A\u001b[2K\u001b[6A\u001b[2K\u001b[15A\u001b[2K\u001b[6A\u001b[2K\u001b[15A\u001b[2K\u001b[6A\u001b[2K\u001b[15A\u001b[2K\u001b[6A\u001b[2K\u001b[15A\u001b[2K\u001b[6A\u001b[2K\u001b[15A\u001b[2K\u001b[6A\u001b[2K\u001b[15A\u001b[2K\u001b[6A\u001b[2K\u001b[15A\u001b[2K\u001b[6A\u001b[2K\u001b[15A\u001b[2K\u001b[6A\u001b[2K\u001b[15A\u001b[2K\u001b[6A\u001b[2K\u001b[15A\u001b[2K\u001b[6A\u001b[2K\u001b[15A\u001b[2K\u001b[6A\u001b[2K\u001b[15A\u001b[2K\u001b[6A\u001b[2K\u001b[15A\u001b[2K\u001b[6A\u001b[2K\u001b[15A\u001b[2K\u001b[6A\u001b[2K\u001b[15A\u001b[2K\u001b[6A\u001b[2K\u001b[15A\u001b[2K\u001b[6A\u001b[2K\u001b[15A\u001b[2K\u001b[6A\u001b[2K\u001b[15A\u001b[2K\u001b[6A\u001b[2K\u001b[15A\u001b[2K\u001b[6A\u001b[2K\u001b[15A\u001b[2K\u001b[6A\u001b[2K\u001b[15A\u001b[2K\u001b[6A\u001b[2K\u001b[15A\u001b[2K\u001b[6A\u001b[2K\u001b[15A\u001b[2K\u001b[6A\u001b[2K\u001b[15A\u001b[2K\u001b[6A\u001b[2K\u001b[15A\u001b[2K\u001b[6A\u001b[2K\u001b[15A\u001b[2K\u001b[6A\u001b[2K\u001b[15A\u001b[2K\u001b[6A\u001b[2K\u001b[15A\u001b[2K\u001b[6A\u001b[2K\u001b[15A\u001b[2K\u001b[6A\u001b[2K\u001b[15A\u001b[2K\u001b[6A\u001b[2K\u001b[15A\u001b[2K\u001b[6A\u001b[2K\u001b[15A\u001b[2K\u001b[6A\u001b[2K\u001b[15A\u001b[2K\u001b[6A\u001b[2K\u001b[15A\u001b[2K\u001b[6A\u001b[2K\u001b[15A\u001b[2K\u001b[6A\u001b[2K\u001b[15A\u001b[2K\u001b[6A\u001b[2K\u001b[15A\u001b[2K\u001b[6A\u001b[2K\u001b[6A\u001b[2K\u001b[15A\u001b[2K\u001b[6A\u001b[2K\u001b[15A\u001b[2K\u001b[6A\u001b[2K\u001b[15A\u001b[2K\u001b[6A\u001b[2K\u001b[15A\u001b[2K\u001b[6A\u001b[2K\u001b[15A\u001b[2K\u001b[6A\u001b[2K\u001b[15A\u001b[2K\u001b[6A\u001b[2K\u001b[15A\u001b[2K\u001b[6A\u001b[2K\u001b[15A\u001b[2K\u001b[6A\u001b[2K\u001b[15A\u001b[2K\u001b[6A\u001b[2K\u001b[15A\u001b[2K\u001b[6A\u001b[2K\u001b[15A\u001b[2K\u001b[6A\u001b[2K\u001b[15A\u001b[2K\u001b[6A\u001b[2K\u001b[15A\u001b[2K\u001b[6A\u001b[2K\u001b[15A\u001b[2K\u001b[6A\u001b[2K\u001b[15A\u001b[2K\u001b[6A\u001b[2K\u001b[15A\u001b[2K\u001b[6A\u001b[2K\u001b[15A\u001b[2K\u001b[6A\u001b[2K\u001b[15A\u001b[2K\u001b[6A\u001b[2K\u001b[15A\u001b[2K\u001b[6A\u001b[2K\u001b[15A\u001b[2K\u001b[6A\u001b[2K\u001b[15A\u001b[2K\u001b[6A\u001b[2K\u001b[15A\u001b[2K\u001b[6A\u001b[2K\u001b[15A\u001b[2K\u001b[6A\u001b[2K\u001b[15A\u001b[2K\u001b[6A\u001b[2K\u001b[15A\u001b[2K\u001b[6A\u001b[2K\u001b[15A\u001b[2K\u001b[6A\u001b[2K\u001b[15A\u001b[2K\u001b[6A\u001b[2K\u001b[15A\u001b[2K\u001b[6A\u001b[2K\u001b[15A\u001b[2K\u001b[6A\u001b[2K\u001b[15A\u001b[2K\u001b[6A\u001b[2K\u001b[15A\u001b[2K\u001b[6A\u001b[2K\u001b[15A\u001b[2K\u001b[6A\u001b[2K\u001b[15A\u001b[2K\u001b[6A\u001b[2K\u001b[6A\u001b[2K\u001b[15A\u001b[2K\u001b[6A\u001b[2K\u001b[15A\u001b[2K\u001b[6A\u001b[2K\u001b[15A\u001b[2K\u001b[6A\u001b[2K\u001b[15A\u001b[2K\u001b[6A\u001b[2K\u001b[15A\u001b[2K\u001b[6A\u001b[2K\u001b[15A\u001b[2K\u001b[6A\u001b[2K\u001b[15A\u001b[2K\u001b[6A\u001b[2K\u001b[15A\u001b[2K\u001b[6A\u001b[2K\u001b[15A\u001b[2K\u001b[6A\u001b[2K\u001b[15A\u001b[2K\u001b[6A\u001b[2K\u001b[6A\u001b[2K\u001b[15A\u001b[2K\u001b[6A\u001b[2K\u001b[6A\u001b[2K\u001b[15A\u001b[2K\u001b[6A\u001b[2K\u001b[6A\u001b[2K\u001b[15A\u001b[2K\u001b[6A\u001b[2K\u001b[6A\u001b[2K\u001b[15A\u001b[2K\u001b[6A\u001b[2K\u001b[15A\u001b[2K\u001b[6A\u001b[2K\u001b[15A\u001b[2K\u001b[6A\u001b[2K\u001b[15A\u001b[2K\u001b[6A\u001b[2K\u001b[15A\u001b[2K\u001b[6A\u001b[2K\u001b[15A\u001b[2K\u001b[6A\u001b[2K\u001b[6A\u001b[2K\u001b[15A\u001b[2K\u001b[6A\u001b[2K\u001b[6A\u001b[2K\u001b[15A\u001b[2K\u001b[6A\u001b[2K\u001b[6A\u001b[2K\u001b[15A\u001b[2K\u001b[6A\u001b[2K\u001b[6A\u001b[2K\u001b[15A\u001b[2K\u001b[6A\u001b[2K\u001b[6A\u001b[2K\u001b[15A\u001b[2K\u001b[6A\u001b[2K\u001b[15A\u001b[2K\u001b[6A\u001b[2K\u001b[15A\u001b[2K\u001b[6A\u001b[2K\u001b[15A\u001b[2K\u001b[6A\u001b[2K\u001b[6A\u001b[2K\u001b[15A\u001b[2K\u001b[6A\u001b[2K\u001b[6A\u001b[2K\u001b[15A\u001b[2K\u001b[6A\u001b[2K\u001b[6A\u001b[2K\u001b[15A\u001b[2K\u001b[6A\u001b[2K\u001b[6A\u001b[2K\u001b[15A\u001b[2K\u001b[6A\u001b[2K\u001b[6A\u001b[2K\u001b[15A\u001b[2K\u001b[6A\u001b[2K\u001b[6A\u001b[2K\u001b[15A\u001b[2K\u001b[6A\u001b[2K\u001b[6A\u001b[2K\u001b[15A\u001b[2K\u001b[6A\u001b[2K\u001b[6A\u001b[2K\u001b[6A\u001b[2K\u001b[6A\u001b[2K\u001b[6A\u001b[2K\u001b[15A\u001b[2K\u001b[6A\u001b[2K\u001b[6A\u001b[2K\u001b[15A\u001b[2K\u001b[6A\u001b[2K\u001b[6A\u001b[2K\u001b[15A\u001b[2K\u001b[6A\u001b[2K\u001b[6A\u001b[2K\u001b[15A\u001b[2K\u001b[6A\u001b[2K\u001b[6A\u001b[2K\u001b[15A\u001b[2K\u001b[6A\u001b[2K\u001b[15A\u001b[2K\u001b[6A\u001b[2K\u001b[6A\u001b[2K\u001b[6A\u001b[2K\u001b[6A\u001b[2K\u001b[6A\u001b[2K\u001b[15A\u001b[2K\u001b[6A\u001b[2K\u001b[6A\u001b[2K\u001b[6A\u001b[2K\u001b[6A\u001b[2K\u001b[6A\u001b[2K\u001b[6A\u001b[2K\u001b[6A\u001b[2K\u001b[6A\u001b[2K\u001b[15A\u001b[2K\u001b[6A\u001b[2K\u001b[6A\u001b[2K\u001b[15A\u001b[2K\u001b[6A\u001b[2K\u001b[6A\u001b[2K\u001b[15A\u001b[2K\u001b[6A\u001b[2K\u001b[15A\u001b[2K\u001b[6A\u001b[2K\u001b[15A\u001b[2K\u001b[6A\u001b[2K\u001b[15A\u001b[2K\u001b[6A\u001b[2K\u001b[6A\u001b[2K\u001b[6A\u001b[2K\u001b[6A\u001b[2K\u001b[6A\u001b[2K\u001b[15A\u001b[2K\u001b[6A\u001b[2K\u001b[6A\u001b[2K\u001b[15A\u001b[2K\u001b[6A\u001b[2K\u001b[15A\u001b[2K\u001b[15A\u001b[2K\u001b[15A\u001b[2K\u001b[6A\u001b[2K\u001b[6A\u001b[2K\u001b[6A\u001b[2K\u001b[15A\u001b[2K\u001b[15A\u001b[2K\u001b[15A\u001b[2K\u001b[15A\u001b[2K\u001b[15A\u001b[2K\u001b[15A\u001b[2K\u001b[15A\u001b[2K\u001b[15A\u001b[2K\u001b[15A\u001b[2K\u001b[15A\u001b[2K\u001b[15A\u001b[2K\u001b[15A\u001b[2K\u001b[15A\u001b[2K\u001b[15A\u001b[2K\u001b[15A\u001b[2K\u001b[15A\u001b[2K\u001b[15A\u001b[2K\u001b[15A\u001b[2K\u001b[15A\u001b[2K\u001b[15A\u001b[2K\u001b[15A\u001b[2K\u001b[15A\u001b[2K\u001b[15A\u001b[2K\u001b[15A\u001b[2K\u001b[15A\u001b[2K\u001b[15A\u001b[2K\u001b[15A\u001b[2K\u001b[15A\u001b[2K\u001b[15A\u001b[2K\u001b[15A\u001b[2K\u001b[15A\u001b[2K\u001b[15A\u001b[2K\u001b[15A\u001b[2K\u001b[15A\u001b[2K\u001b[15A\u001b[2K\u001b[15A\u001b[2K\u001b[15A\u001b[2K\u001b[15A\u001b[2K\u001b[15A\u001b[2K\u001b[15A\u001b[2K\u001b[15A\u001b[2K\u001b[15A\u001b[2K\u001b[15A\u001b[2K\u001b[15A\u001b[2K\u001b[15A\u001b[2K\u001b[15A\u001b[2K\u001b[15A\u001b[2K\u001b[15A\u001b[2K\u001b[15A\u001b[2K\u001b[15A\u001b[2K\u001b[15A\u001b[2K\u001b[15A\u001b[2K\u001b[15A\u001b[2K\u001b[15A\u001b[2K\u001b[15A\u001b[2K\u001b[15A\u001b[2K\u001b[15A\u001b[2K\u001b[15A\u001b[2K\u001b[15A\u001b[2K\u001b[15A\u001b[2K\u001b[15A\u001b[2K\u001b[15A\u001b[2K\u001b[15A\u001b[2K\u001b[15A\u001b[2K\u001b[15A\u001b[2K\u001b[15A\u001b[2K\u001b[15A\u001b[2K\u001b[15A\u001b[2K\u001b[15A\u001b[2K\u001b[15A\u001b[2K\u001b[15A\u001b[2K\u001b[15A\u001b[2K\u001b[15A\u001b[2K\u001b[15A\u001b[2K\u001b[15A\u001b[2K\u001b[15A\u001b[2K\u001b[15A\u001b[2K\u001b[15A\u001b[2K\u001b[15A\u001b[2K\u001b[15A\u001b[2K\u001b[15A\u001b[2K\u001b[15A\u001b[2K\u001b[15A\u001b[2K\u001b[15A\u001b[2K\u001b[15A\u001b[2K\u001b[15A\u001b[2K\u001b[15A\u001b[2K\u001b[15A\u001b[2K\u001b[15A\u001b[2K\u001b[15A\u001b[2K\u001b[15A\u001b[2K\u001b[15A\u001b[2K\u001b[15A\u001b[2K\u001b[15A\u001b[2K\u001b[15A\u001b[2K\u001b[15A\u001b[2K\u001b[15A\u001b[2K\u001b[15A\u001b[2K\u001b[15A\u001b[2K\u001b[15A\u001b[2K\u001b[15A\u001b[2K\u001b[15A\u001b[2K\u001b[15A\u001b[2K\u001b[15A\u001b[2K\u001b[15A\u001b[2K\u001b[15A\u001b[2K\u001b[15A\u001b[2K\u001b[15A\u001b[2K\u001b[15A\u001b[2K\u001b[15A\u001b[2K\u001b[15A\u001b[2K\u001b[15A\u001b[2K\u001b[15A\u001b[2K\u001b[15A\u001b[2K\u001b[15A\u001b[2K\u001b[15A\u001b[2K\u001b[15A\u001b[2K\u001b[15A\u001b[2K\u001b[15A\u001b[2K\u001b[15A\u001b[2K\u001b[15A\u001b[2K\u001b[15A\u001b[2K\u001b[15A\u001b[2K\u001b[15A\u001b[2K\u001b[15A\u001b[2K\u001b[15A\u001b[2K\u001b[15A\u001b[2K\u001b[15A\u001b[2K\u001b[15A\u001b[2K\u001b[15A\u001b[2K\u001b[15A\u001b[2K\u001b[15A\u001b[2K\u001b[15A\u001b[2K\u001b[15A\u001b[2K\u001b[15A\u001b[2K\u001b[15A\u001b[2K\u001b[15A\u001b[2K\u001b[15A\u001b[2K\u001b[15A\u001b[2K\u001b[15A\u001b[2K\u001b[15A\u001b[2K\u001b[15A\u001b[2K\u001b[15A\u001b[2K\u001b[15A\u001b[2K\u001b[15A\u001b[2K\u001b[15A\u001b[2K\u001b[15A\u001b[2K\u001b[15A\u001b[2K\u001b[15A\u001b[2K\u001b[15A\u001b[2K\u001b[15A\u001b[2K\u001b[15A\u001b[2K\u001b[15A\u001b[2K\u001b[15A\u001b[2K\u001b[15A\u001b[2K\u001b[15A\u001b[2K\u001b[15A\u001b[2K\u001b[15A\u001b[2K\u001b[15A\u001b[2K\u001b[15A\u001b[2K\u001b[15A\u001b[2K\u001b[15A\u001b[2K\u001b[15A\u001b[2K\u001b[15A\u001b[2K\u001b[15A\u001b[2K\u001b[15A\u001b[2K\u001b[15A\u001b[2K\u001b[15A\u001b[2K\u001b[15A\u001b[2K\u001b[15A\u001b[2K\u001b[15A\u001b[2K\u001b[15A\u001b[2K\u001b[15A\u001b[2K\u001b[15A\u001b[2K\u001b[15A\u001b[2K\u001b[15A\u001b[2K\u001b[15A\u001b[2K\u001b[15A\u001b[2K\u001b[15A\u001b[2K\u001b[15A\u001b[2K\u001b[15A\u001b[2K\u001b[15A\u001b[2K\u001b[15A\u001b[2K\u001b[15A\u001b[2K\u001b[15A\u001b[2K\u001b[15A\u001b[2K\u001b[15A\u001b[2K\u001b[15A\u001b[2K\u001b[15A\u001b[2K\u001b[15A\u001b[2K\u001b[15A\u001b[2K\u001b[15A\u001b[2K\u001b[15A\u001b[2K\u001b[15A\u001b[2K\u001b[15A\u001b[2K\u001b[15A\u001b[2K\u001b[15A\u001b[2K\u001b[15A\u001b[2K\u001b[15A\u001b[2K\u001b[15A\u001b[2K\u001b[15A\u001b[2K\u001b[15A\u001b[2K\u001b[15A\u001b[2K\u001b[15A\u001b[2K\u001b[15A\u001b[2K\u001b[15A\u001b[2K\u001b[15A\u001b[2K\u001b[15A\u001b[2K\u001b[15A\u001b[2K\u001b[15A\u001b[2K\u001b[15A\u001b[2K\u001b[15A\u001b[2K\u001b[15A\u001b[2K\u001b[15A\u001b[2K\u001b[15A\u001b[2K\u001b[15A\u001b[2K\u001b[15A\u001b[2K\u001b[15A\u001b[2K\u001b[15A\u001b[2K\u001b[15A\u001b[2K\u001b[15A\u001b[2K\u001b[15A\u001b[2K\u001b[15A\u001b[2K\u001b[15A\u001b[2K\u001b[15A\u001b[2K\u001b[15A\u001b[2K\u001b[15A\u001b[2K\u001b[15A\u001b[2K\u001b[15A\u001b[2K\u001b[15A\u001b[2K\u001b[15A\u001b[2K\u001b[15A\u001b[2K\u001b[15A\u001b[2K\u001b[15A\u001b[2K\u001b[15A\u001b[2K\u001b[15A\u001b[2K\u001b[15A\u001b[2K\u001b[15A\u001b[2K\u001b[15A\u001b[2K\u001b[15A\u001b[2K\u001b[15A\u001b[2K\u001b[15A\u001b[2K\u001b[15A\u001b[2K\u001b[15A\u001b[2K\u001b[15A\u001b[2K\u001b[15A\u001b[2K\u001b[15A\u001b[2K\u001b[15A\u001b[2K\u001b[15A\u001b[2K\u001b[15A\u001b[2K\u001b[15A\u001b[2K\u001b[15A\u001b[2K\u001b[15A\u001b[2K\u001b[15A\u001b[2K\u001b[15A\u001b[2K\u001b[15A\u001b[2K\u001b[15A\u001b[2K\u001b[15A\u001b[2K\u001b[15A\u001b[2K\u001b[15A\u001b[2K\u001b[15A\u001b[2K\u001b[15A\u001b[2K\u001b[15A\u001b[2K\u001b[15A\u001b[2K\u001b[15A\u001b[2K\u001b[15A\u001b[2K\u001b[15A\u001b[2K\u001b[15A\u001b[2K\u001b[15A\u001b[2K\u001b[15A\u001b[2K\u001b[15A\u001b[2K\u001b[15A\u001b[2K\u001b[15A\u001b[2K\u001b[15A\u001b[2K\u001b[15A\u001b[2K\u001b[15A\u001b[2K\u001b[15A\u001b[2K\u001b[15A\u001b[2K\u001b[15A\u001b[2K\u001b[15A\u001b[2K\u001b[15A\u001b[2K\u001b[15A\u001b[2K\u001b[15A\u001b[2K\u001b[15A\u001b[2K\u001b[15A\u001b[2K\u001b[15A\u001b[2K\u001b[15A\u001b[2K\u001b[15A\u001b[2K\u001b[15A\u001b[2K\u001b[15A\u001b[2K\u001b[15A\u001b[2K\u001b[15A\u001b[2K\u001b[15A\u001b[2K\u001b[15A\u001b[2K\u001b[15A\u001b[2K\u001b[15A\u001b[2K\u001b[15A\u001b[2K\u001b[15A\u001b[2K\u001b[15A\u001b[2K\u001b[15A\u001b[2K\u001b[15A\u001b[2K\u001b[15A\u001b[2K\u001b[15A\u001b[2K\u001b[15A\u001b[2K\u001b[15A\u001b[2K\u001b[15A\u001b[2K\u001b[15A\u001b[2K\u001b[15A\u001b[2K\u001b[15A\u001b[2K\u001b[15A\u001b[2K\u001b[15A\u001b[2K\u001b[15A\u001b[2K\u001b[15A\u001b[2K\u001b[15A\u001b[2K\u001b[15A\u001b[2K\u001b[15A\u001b[2K\u001b[15A\u001b[2K\u001b[15A\u001b[2K\u001b[15A\u001b[2K\u001b[15A\u001b[2K\u001b[15A\u001b[2K\u001b[15A\u001b[2K\u001b[15A\u001b[2K\u001b[15A\u001b[2K\u001b[15A\u001b[2K\u001b[15A\u001b[2K\u001b[15A\u001b[2K\u001b[15A\u001b[2K\u001b[15A\u001b[2K\u001b[15A\u001b[2K\u001b[15A\u001b[2K\u001b[15A\u001b[2K\u001b[15A\u001b[2K\u001b[15A\u001b[2K\u001b[15A\u001b[2K\u001b[15A\u001b[2K\u001b[15A\u001b[2K\u001b[15A\u001b[2K\u001b[15A\u001b[2K\u001b[15A\u001b[2K\u001b[15A\u001b[2K\u001b[15A\u001b[2K\u001b[15A\u001b[2K\u001b[15A\u001b[2K\u001b[15A\u001b[2K\u001b[15A\u001b[2K\u001b[15A\u001b[2K\u001b[15A\u001b[2K\u001b[15A\u001b[2K\u001b[15A\u001b[2K\u001b[15A\u001b[2K\u001b[15A\u001b[2K\u001b[15A\u001b[2K\u001b[15A\u001b[2K\u001b[15A\u001b[2K\u001b[15A\u001b[2K\u001b[15A\u001b[2K\u001b[15A\u001b[2K\u001b[15A\u001b[2K\u001b[15A\u001b[2K\u001b[15A\u001b[2K\u001b[15A\u001b[2K\u001b[15A\u001b[2K\u001b[15A\u001b[2K\u001b[15A\u001b[2K\u001b[15A\u001b[2K\u001b[15A\u001b[2K\u001b[15A\u001b[2K\u001b[15A\u001b[2K\u001b[15A\u001b[2K\u001b[15A\u001b[2K\u001b[15A\u001b[2K\u001b[15A\u001b[2K\u001b[15A\u001b[2K\u001b[15A\u001b[2K\u001b[15A\u001b[2K\u001b[15A\u001b[2K\u001b[15A\u001b[2K\u001b[15A\u001b[2K\u001b[15A\u001b[2K\u001b[15A\u001b[2K\u001b[15A\u001b[2K\u001b[15A\u001b[2K\u001b[15A\u001b[2K\u001b[15A\u001b[2K\u001b[15A\u001b[2K\u001b[15A\u001b[2K\u001b[15A\u001b[2K\u001b[15A\u001b[2K\u001b[15A\u001b[2K\u001b[15A\u001b[2K\u001b[15A\u001b[2K\u001b[15A\u001b[2K\u001b[15A\u001b[2K\u001b[15A\u001b[2K\u001b[15A\u001b[2K\u001b[15A\u001b[2K\u001b[15A\u001b[2K\u001b[15A\u001b[2K\u001b[15A\u001b[2K\u001b[15A\u001b[2K\u001b[15A\u001b[2K\u001b[15A\u001b[2K\u001b[15A\u001b[2K\u001b[15A\u001b[2K\u001b[15A\u001b[2K\u001b[15A\u001b[2K\u001b[15A\u001b[2K\u001b[15A\u001b[2K\u001b[15A\u001b[2K\u001b[15A\u001b[2K\u001b[15A\u001b[2K\u001b[15A\u001b[2K\u001b[15A\u001b[2K\u001b[15A\u001b[2K\u001b[15A\u001b[2K\u001b[15A\u001b[2K\u001b[15A\u001b[2K\u001b[15A\u001b[2K\u001b[15A\u001b[2K\u001b[15A\u001b[2K\u001b[15A\u001b[2K\u001b[15A\u001b[2K\u001b[15A\u001b[2K\u001b[15A\u001b[2K\u001b[15A\u001b[2K\u001b[15A\u001b[2K\u001b[15A\u001b[2K\u001b[15A\u001b[2K\u001b[15A\u001b[2K\u001b[15A\u001b[2K\u001b[15A\u001b[2K\u001b[15A\u001b[2K\u001b[15A\u001b[2K\u001b[15A\u001b[2K\u001b[15A\u001b[2K\u001b[15A\u001b[2K\u001b[15A\u001b[2K\u001b[15A\u001b[2K\u001b[15A\u001b[2K\u001b[15A\u001b[2K\u001b[15A\u001b[2K\u001b[15A\u001b[2K\u001b[15A\u001b[2K\u001b[15A\u001b[2K\u001b[15A\u001b[2K\u001b[15A\u001b[2K\u001b[15A\u001b[2K\u001b[15A\u001b[2K\u001b[15A\u001b[2K\u001b[15A\u001b[2K\u001b[15A\u001b[2K\u001b[15A\u001b[2K\u001b[15A\u001b[2K\u001b[15A\u001b[2K\u001b[15A\u001b[2K\u001b[15A\u001b[2K\u001b[15A\u001b[2K\u001b[15A\u001b[2K\u001b[15A\u001b[2K\u001b[15A\u001b[2K\u001b[15A\u001b[2K\u001b[15A\u001b[2K\u001b[15A\u001b[2K\u001b[15A\u001b[2K\u001b[15A\u001b[2K\u001b[15A\u001b[2K\u001b[15A\u001b[2K\u001b[15A\u001b[2K\u001b[15A\u001b[2K\u001b[15A\u001b[2K\u001b[15A\u001b[2K\u001b[15A\u001b[2K\u001b[15A\u001b[2K\u001b[15A\u001b[2K\u001b[15A\u001b[2K\u001b[15A\u001b[2K\u001b[15A\u001b[2K\u001b[15A\u001b[2K\u001b[15A\u001b[2K\u001b[15A\u001b[2K\u001b[15A\u001b[2K\u001b[15A\u001b[2K\u001b[15A\u001b[2K\u001b[15A\u001b[2K\u001b[15A\u001b[2K\u001b[15A\u001b[2K\u001b[15A\u001b[2K\u001b[15A\u001b[2K\u001b[15A\u001b[2K\u001b[15A\u001b[2K\u001b[15A\u001b[2K\u001b[15A\u001b[2K\u001b[15A\u001b[2K\u001b[15A\u001b[2K\u001b[15A\u001b[2K\u001b[15A\u001b[2K\u001b[15A\u001b[2K\u001b[15A\u001b[2K\u001b[15A\u001b[2K\u001b[15A\u001b[2K\u001b[15A\u001b[2K\u001b[15A\u001b[2K\u001b[15A\u001b[2K\u001b[15A\u001b[2K\u001b[15A\u001b[2K\u001b[15A\u001b[2K\u001b[15A\u001b[2K\u001b[15A\u001b[2K\u001b[15A\u001b[2K\u001b[15A\u001b[2K\u001b[15A\u001b[2K\u001b[15A\u001b[2K\u001b[15A\u001b[2K\u001b[15A\u001b[2K\u001b[15A\u001b[2K\u001b[15A\u001b[2K\u001b[15A\u001b[2K\u001b[15A\u001b[2K\u001b[15A\u001b[2K\u001b[15A\u001b[2K\u001b[15A\u001b[2K\u001b[15A\u001b[2K\u001b[15A\u001b[2K\u001b[15A\u001b[2K\u001b[15A\u001b[2K\u001b[15A\u001b[2K\u001b[15A\u001b[2K\u001b[15A\u001b[2K\u001b[15A\u001b[2K\u001b[15A\u001b[2K\u001b[15A\u001b[2K\u001b[15A\u001b[2K\u001b[15A\u001b[2K\u001b[15A\u001b[2K\u001b[15A\u001b[2K\u001b[15A\u001b[2K\u001b[15A\u001b[2K\u001b[15A\u001b[2K\u001b[15A\u001b[2K\u001b[15A\u001b[2K\u001b[15A\u001b[2K\u001b[15A\u001b[2K\u001b[15A\u001b[2K\u001b[15A\u001b[2K\u001b[15A\u001b[2K\u001b[15A\u001b[2K\u001b[15A\u001b[2K\u001b[15A\u001b[2K\u001b[15A\u001b[2K\u001b[15A\u001b[2K\u001b[15A\u001b[2K\u001b[15A\u001b[2K\u001b[15A\u001b[2K\u001b[15A\u001b[2K\u001b[15A\u001b[2K\u001b[15A\u001b[2K\u001b[15A\u001b[2K\u001b[15A\u001b[2K\u001b[15A\u001b[2K\u001b[15A\u001b[2K\u001b[15A\u001b[2K\u001b[15A\u001b[2K\u001b[15A\u001b[2K\u001b[15A\u001b[2K\u001b[15A\u001b[2K\u001b[15A\u001b[2K\u001b[15A\u001b[2K\u001b[15A\u001b[2K\u001b[15A\u001b[2K\u001b[15A\u001b[2K\u001b[15A\u001b[2K\u001b[15A\u001b[2K\u001b[15A\u001b[2K\u001b[15A\u001b[2K\u001b[15A\u001b[2K\u001b[15A\u001b[2K\u001b[15A\u001b[2K\u001b[15A\u001b[2K\u001b[15A\u001b[2K\u001b[15A\u001b[2K\u001b[15A\u001b[2K\u001b[15A\u001b[2K\u001b[15A\u001b[2K\u001b[15A\u001b[2K\u001b[15A\u001b[2K\u001b[15A\u001b[2K\u001b[15A\u001b[2K\u001b[15A\u001b[2K\u001b[15A\u001b[2K\u001b[15A\u001b[2K\u001b[15A\u001b[2K\u001b[15A\u001b[2K\u001b[15A\u001b[2K\u001b[15A\u001b[2K\u001b[15A\u001b[2K\u001b[15A\u001b[2K\u001b[15A\u001b[2K\u001b[15A\u001b[2K\u001b[15A\u001b[2K\u001b[15A\u001b[2K\u001b[15A\u001b[2K\u001b[15A\u001b[2K\u001b[15A\u001b[2K\u001b[15A\u001b[2K\u001b[15A\u001b[2K\u001b[15A\u001b[2K\u001b[15A\u001b[2K\u001b[15A\u001b[2K\u001b[15A\u001b[2K\u001b[15A\u001b[2K\u001b[15A\u001b[2K\u001b[15A\u001b[2K\u001b[15A\u001b[2K\u001b[15A\u001b[2K\u001b[15A\u001b[2K\u001b[15A\u001b[2K\u001b[15A\u001b[2K\u001b[15A\u001b[2K\u001b[15A\u001b[2K\u001b[15A\u001b[2K\u001b[15A\u001b[2K\u001b[15A\u001b[2K\u001b[15A\u001b[2K\u001b[15A\u001b[2K\u001b[15A\u001b[2K\u001b[15A\u001b[2K\u001b[15A\u001b[2K\u001b[15A\u001b[2K\u001b[15A\u001b[2K\u001b[15A\u001b[2K\u001b[15A\u001b[2K\u001b[15A\u001b[2K\u001b[15A\u001b[2K\u001b[15A\u001b[2K\u001b[15A\u001b[2K\u001b[15A\u001b[2K\u001b[15A\u001b[2K\u001b[15A\u001b[2K\u001b[15A\u001b[2K\u001b[15A\u001b[2K\u001b[15A\u001b[2K\u001b[15A\u001b[2K\u001b[15A\u001b[2K\u001b[15A\u001b[2K\u001b[15A\u001b[2K\u001b[15A\u001b[2K\u001b[15A\u001b[2K\u001b[15A\u001b[2K\u001b[15A\u001b[2K\u001b[15A\u001b[2K\u001b[15A\u001b[2K\u001b[15A\u001b[2K\u001b[15A\u001b[2K\u001b[15A\u001b[2K\u001b[15A\u001b[2K\u001b[15A\u001b[2K\u001b[15A\u001b[2K\u001b[15A\u001b[2K\u001b[15A\u001b[2K\u001b[15A\u001b[2K\u001b[15A\u001b[2K\u001b[15A\u001b[2K\u001b[15A\u001b[2K\u001b[15A\u001b[2K\u001b[15A\u001b[2K\u001b[15A\u001b[2K\u001b[15A\u001b[2K\u001b[1A\u001b[2K\n"
     ]
    }
   ],
   "source": [
    "!$(aws ecr get-login --no-include-email --region us-west-2 --registry-ids 763104351884)\n",
    "!docker build -t {ecr_repo_name}:latest ."
   ]
  },
  {
   "cell_type": "markdown",
   "metadata": {},
   "source": [
    "**Create an ECR repository if one doesn't exist**"
   ]
  },
  {
   "cell_type": "code",
   "execution_count": 4,
   "metadata": {},
   "outputs": [
    {
     "name": "stdout",
     "output_type": "stream",
     "text": [
      "\n",
      "An error occurred (RepositoryAlreadyExistsException) when calling the CreateRepository operation: The repository with name 'sagemaker-kubernetes' already exists in the registry with id '189546603447'\n"
     ]
    }
   ],
   "source": [
    "!aws ecr create-repository --repository-name {ecr_repo_name}"
   ]
  },
  {
   "cell_type": "markdown",
   "metadata": {},
   "source": [
    "**Push image to ECR**"
   ]
  },
  {
   "cell_type": "code",
   "execution_count": 5,
   "metadata": {},
   "outputs": [
    {
     "name": "stdout",
     "output_type": "stream",
     "text": [
      "WARNING! Using --password via the CLI is insecure. Use --password-stdin.\n",
      "WARNING! Your password will be stored unencrypted in /home/ec2-user/.docker/config.json.\n",
      "Configure a credential helper to remove this warning. See\n",
      "https://docs.docker.com/engine/reference/commandline/login/#credentials-store\n",
      "\n",
      "Login Succeeded\n",
      "Error response from daemon: No such image: sagemaker-kubernetes:latest\n",
      "The push refers to repository [189546603447.dkr.ecr.ap-northeast-2.amazonaws.com/sagemaker-kubernetes]\n",
      "An image does not exist locally with the tag: 189546603447.dkr.ecr.ap-northeast-2.amazonaws.com/sagemaker-kubernetes\n"
     ]
    }
   ],
   "source": [
    "!$(aws ecr get-login --no-include-email --region {region})\n",
    "!docker tag {ecr_repo_name}:latest {image}\n",
    "!docker push {image}"
   ]
  },
  {
   "cell_type": "code",
   "execution_count": null,
   "metadata": {},
   "outputs": [],
   "source": []
  }
 ],
 "metadata": {
  "kernelspec": {
   "display_name": "conda_python3",
   "language": "python",
   "name": "conda_python3"
  },
  "language_info": {
   "codemirror_mode": {
    "name": "ipython",
    "version": 3
   },
   "file_extension": ".py",
   "mimetype": "text/x-python",
   "name": "python",
   "nbconvert_exporter": "python",
   "pygments_lexer": "ipython3",
   "version": "3.6.13"
  }
 },
 "nbformat": 4,
 "nbformat_minor": 4
}
